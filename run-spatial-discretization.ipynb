{
 "cells": [
  {
   "cell_type": "markdown",
   "id": "cea8bb8c",
   "metadata": {},
   "source": [
    "# Introduction\n",
    "The objective of this notebook is to discretize HRUs in a watershed and create a weighting matrix that describes the hillslope-stream network connectivity in a catchment. This notebook is meant to replace the spatial discretization workflow (*DynatopSpatialFunctionExplicitReaches*) for the modified dynamic TOPMODEL described by Mahoney et al. (2022) *J. Hydrol*. \n",
    "\n",
    "To run this notebook, it is necessary to first install kernels for Python and R and install arcpy to the environment from which the notebook is run (see instructions [here](https://github.com/tyler-mahoney/modeling-streamflow-permanence/blob/main/arcpy-setup.ipynb)). Instances when switching the kernel is necessary will be denoted in a Markdown cell. "
   ]
  },
  {
   "cell_type": "markdown",
   "id": "7bfe50b9",
   "metadata": {},
   "source": [
    "### Step 1: Load in Necessary Libraries"
   ]
  },
  {
   "cell_type": "code",
   "execution_count": 6,
   "id": "91afca01",
   "metadata": {},
   "outputs": [
    {
     "name": "stdout",
     "output_type": "stream",
     "text": [
      "C:\\Users\\david\\OneDrive\\Desktop\\EPA\\EPA\\6 PROJECT 1 KENTUCKY HEADWATER STREAMS\\4 ANALYSIS\\5 STREAMFLOW PERMANENCE MODEL\\modeling-streamflow-permanence\n"
     ]
    }
   ],
   "source": [
    "# Import relevant libraries and output the current working directory\n",
    "\n",
    "import arcpy\n",
    "import os\n",
    "from arcpy.sa import *\n",
    "print(os.getcwd())"
   ]
  },
  {
   "cell_type": "markdown",
   "id": "ea575b66",
   "metadata": {},
   "source": [
    "   ### Step 2: Raster Import, Fill, Flow Direction"
   ]
  },
  {
   "cell_type": "code",
   "execution_count": null,
   "id": "80c4e8f0",
   "metadata": {},
   "outputs": [],
   "source": [
    "# Load in rasters \n",
    "FR_DEM = Raster('SpatialInputData/fr1meterDEM.tif')\n",
    "FR_Soils = Raster('SpatialInputData/FRSoils1mMask.tif')\n"
   ]
  }
 ],
 "metadata": {
  "kernelspec": {
   "display_name": "Python (esri)",
   "language": "python",
   "name": "esri"
  },
  "language_info": {
   "codemirror_mode": {
    "name": "ipython",
    "version": 3
   },
   "file_extension": ".py",
   "mimetype": "text/x-python",
   "name": "python",
   "nbconvert_exporter": "python",
   "pygments_lexer": "ipython3",
   "version": "3.9.12"
  }
 },
 "nbformat": 4,
 "nbformat_minor": 5
}
